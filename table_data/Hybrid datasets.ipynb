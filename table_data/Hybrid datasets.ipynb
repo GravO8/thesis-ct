{
 "cells": [
  {
   "cell_type": "markdown",
   "id": "43817f11",
   "metadata": {},
   "source": [
    "# Hybrid datasets"
   ]
  },
  {
   "cell_type": "code",
   "execution_count": 12,
   "id": "f695e7d5",
   "metadata": {},
   "outputs": [],
   "source": [
    "import pandas as pd\n",
    "\n",
    "table_data = pd.read_csv(\"../../../data/gravo/table_data.csv\")\n",
    "table_data = table_data.rename(columns = {\"idProcessoLocal\": \"patient_id\"})\n",
    "new_col = []\n",
    "for patient_id in table_data.patient_id.values:\n",
    "    try:\n",
    "        new_col.append(int(patient_id))\n",
    "    except:\n",
    "        new_col.append(None)\n",
    "table_data[\"patient_id\"] = new_col\n",
    "bin_rankin = table_data[\"binary_rankin\"].values\n",
    "table_data = table_data.drop([\"binary_rankin\", \"rankin\", \"set\", \"ouTerrIsqOutro-7\"], axis = 1)"
   ]
  },
  {
   "cell_type": "code",
   "execution_count": 14,
   "id": "965c7dab",
   "metadata": {},
   "outputs": [
    {
     "name": "stdout",
     "output_type": "stream",
     "text": [
      "351 351\n"
     ]
    }
   ],
   "source": [
    "for cnn in (\"resnet18\", \"resnet34\", \"resnet50\", \"efficientnet_b1\", \"efficientnet_b2\", \n",
    "            \"efficientnet_b3\", \"efficientnet_b4\"):\n",
    "    cnn_features = pd.read_csv(f\"../../../data/MIP/{cnn}.csv\")\n",
    "    for patient_id in cnn_features.patient_id.values:\n",
    "        if patient_id not in table_data.patient_id.values:\n",
    "            print(patient_id)\n",
    "    \n",
    "    hybrid = pd.merge(cnn_features, table_data, on = \"patient_id\")\n",
    "    print(len(hybrid), len(cnn_features))\n",
    "\n",
    "    hybrid.to_csv(f\"../../../data/MIP/{cnn}-hybrid.csv\", index = False)\n",
    "    complementar = []\n",
    "    for patient_id in table_data.patient_id.values:\n",
    "        if patient_id in hybrid.patient_id.values:\n",
    "            complementar.append(False)\n",
    "        else:\n",
    "            complementar.append(True)\n",
    "    table_data[\"binary_rankin\"] = bin_rankin\n",
    "    table_data[complementar].to_csv(f\"../../../data/MIP/{cnn}-hybrid-complementar.csv\", index = False)\n",
    "    table_data = table_data.drop([\"binary_rankin\"], axis = 1)\n",
    "    break"
   ]
  },
  {
   "cell_type": "code",
   "execution_count": null,
   "id": "db23c7ef",
   "metadata": {},
   "outputs": [],
   "source": []
  }
 ],
 "metadata": {
  "kernelspec": {
   "display_name": "Python 3",
   "language": "python",
   "name": "python3"
  },
  "language_info": {
   "codemirror_mode": {
    "name": "ipython",
    "version": 3
   },
   "file_extension": ".py",
   "mimetype": "text/x-python",
   "name": "python",
   "nbconvert_exporter": "python",
   "pygments_lexer": "ipython3",
   "version": "3.7.4"
  }
 },
 "nbformat": 4,
 "nbformat_minor": 5
}
