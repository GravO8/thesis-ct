{
 "cells": [
  {
   "cell_type": "markdown",
   "id": "1a6ec56f",
   "metadata": {},
   "source": [
    "# CT dataset spliter"
   ]
  },
  {
   "cell_type": "code",
   "execution_count": 1,
   "id": "3a7f0637",
   "metadata": {},
   "outputs": [],
   "source": [
    "import pandas as pd, numpy as np, os\n",
    "\n",
    "CT_TYPE = \"NCCT\"\n",
    "\n",
    "if CT_TYPE == \"CTA\":\n",
    "    N1_test, N0_test = 10,19\n",
    "elif CT_TYPE == \"NCCT\":\n",
    "    N1_test, N0_test = 14,33\n",
    "else: assert False\n",
    "\n",
    "data = pd.read_csv(\"../../data/gravo/table_data.csv\")\n",
    "pd.options.display.max_rows = 1000"
   ]
  },
  {
   "cell_type": "markdown",
   "id": "77f8e28c",
   "metadata": {},
   "source": [
    "## CT patients (with rankin)"
   ]
  },
  {
   "cell_type": "code",
   "execution_count": 2,
   "id": "a52277a8",
   "metadata": {},
   "outputs": [
    {
     "name": "stdout",
     "output_type": "stream",
     "text": [
      "dataset size: 473\n",
      "rankin distr: (array([0., 1.]), array([332, 141]))\n"
     ]
    }
   ],
   "source": [
    "ct_patients = data[(data[CT_TYPE] == \"OK\") & ~np.isnan(data[\"binary_rankin\"])]\n",
    "\n",
    "print(\"dataset size:\", len(ct_patients))\n",
    "print(\"rankin distr:\", np.unique(ct_patients[\"binary_rankin\"].values, return_counts = 1))"
   ]
  },
  {
   "cell_type": "markdown",
   "id": "1c346c30",
   "metadata": {},
   "source": [
    "## Create `dataset_{CT_TYPE}.csv`"
   ]
  },
  {
   "cell_type": "code",
   "execution_count": 3,
   "id": "7851ff1b",
   "metadata": {},
   "outputs": [],
   "source": [
    "ct_rankin1 = data[(data[CT_TYPE] == \"OK\") & (data[\"binary_rankin\"] == 1)][\"idProcessoLocal\"].values\n",
    "ct_rankin0 = data[(data[CT_TYPE] == \"OK\") & (data[\"binary_rankin\"] == 0)][\"idProcessoLocal\"].values\n",
    "\n",
    "np.random.seed()\n",
    "np.random.shuffle(ct_rankin1)\n",
    "np.random.shuffle(ct_rankin0)\n",
    "\n",
    "with open(f\"dataset_{CT_TYPE}.csv\", \"w\") as f:\n",
    "    f.write(\"patient_id,rankin,binary_rankin,set\\n\")\n",
    "    for _, row in ct_patients.iterrows():\n",
    "        f.write(f\"{int(row['idProcessoLocal'])},{int(row['rankin'])},{int(row['binary_rankin'])},\")\n",
    "        if row[\"idProcessoLocal\"] in ct_rankin1:\n",
    "            f.write(f\"{['train','test'][int(N1_test > 0)]}\\n\")\n",
    "            N1_test -= 1\n",
    "        else:\n",
    "            f.write(f\"{['train','test'][int(N0_test > 0)]}\\n\")\n",
    "            N0_test -= 1"
   ]
  },
  {
   "cell_type": "markdown",
   "id": "bc35e7e4",
   "metadata": {},
   "source": [
    "## Move `dataset_{CT_TYPE}.csv`"
   ]
  },
  {
   "cell_type": "code",
   "execution_count": 4,
   "id": "4d7e9799",
   "metadata": {},
   "outputs": [
    {
     "data": {
      "text/plain": [
       "0"
      ]
     },
     "execution_count": 4,
     "metadata": {},
     "output_type": "execute_result"
    }
   ],
   "source": [
    "os.system(f\"mv dataset_{CT_TYPE}.csv ../../data/gravo/\")"
   ]
  },
  {
   "cell_type": "code",
   "execution_count": null,
   "id": "5ae0e15d",
   "metadata": {},
   "outputs": [],
   "source": []
  }
 ],
 "metadata": {
  "kernelspec": {
   "display_name": "Python 3",
   "language": "python",
   "name": "python3"
  },
  "language_info": {
   "codemirror_mode": {
    "name": "ipython",
    "version": 3
   },
   "file_extension": ".py",
   "mimetype": "text/x-python",
   "name": "python",
   "nbconvert_exporter": "python",
   "pygments_lexer": "ipython3",
   "version": "3.7.4"
  }
 },
 "nbformat": 4,
 "nbformat_minor": 5
}
