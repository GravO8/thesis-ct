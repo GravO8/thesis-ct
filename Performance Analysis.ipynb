{
 "cells": [
  {
   "cell_type": "markdown",
   "metadata": {},
   "source": [
    "# Performance Analysis"
   ]
  },
  {
   "cell_type": "code",
   "execution_count": 1,
   "metadata": {},
   "outputs": [],
   "source": [
    "from utils.performance_analyser import PerformanceAnalyser\n",
    "import pandas as pd\n",
    "\n",
    "analyser = PerformanceAnalyser(runs_dir = \"../../runs/systematic/\")\n",
    "analyser.analyse()\n",
    "\n",
    "data = pd.read_csv(\"../../runs/systematic/performance.csv\")\n",
    "pd.options.display.max_rows = 1000"
   ]
  },
  {
   "cell_type": "code",
   "execution_count": 3,
   "metadata": {},
   "outputs": [
    {
     "data": {
      "text/html": [
       "<div>\n",
       "<style scoped>\n",
       "    .dataframe tbody tr th:only-of-type {\n",
       "        vertical-align: middle;\n",
       "    }\n",
       "\n",
       "    .dataframe tbody tr th {\n",
       "        vertical-align: top;\n",
       "    }\n",
       "\n",
       "    .dataframe thead th {\n",
       "        text-align: right;\n",
       "    }\n",
       "</style>\n",
       "<table border=\"1\" class=\"dataframe\">\n",
       "  <thead>\n",
       "    <tr style=\"text-align: right;\">\n",
       "      <th></th>\n",
       "      <th>type</th>\n",
       "      <th>model</th>\n",
       "      <th>accuracy_avg</th>\n",
       "      <th>precision_avg</th>\n",
       "      <th>recall_avg</th>\n",
       "      <th>f1_score_avg</th>\n",
       "      <th>auc_score_avg</th>\n",
       "    </tr>\n",
       "  </thead>\n",
       "  <tbody>\n",
       "    <tr>\n",
       "      <th>0</th>\n",
       "      <td>baseline-mirror</td>\n",
       "      <td>baseline-mirror-resnet34_gap_3D</td>\n",
       "      <td>0.766667</td>\n",
       "      <td>0.598592</td>\n",
       "      <td>0.529412</td>\n",
       "      <td>0.560131</td>\n",
       "      <td>0.741450</td>\n",
       "    </tr>\n",
       "    <tr>\n",
       "      <th>8</th>\n",
       "      <td>baseline-mirror</td>\n",
       "      <td>baseline-mirror-resnet18_gap_3D</td>\n",
       "      <td>0.688889</td>\n",
       "      <td>0.464848</td>\n",
       "      <td>0.549020</td>\n",
       "      <td>0.496081</td>\n",
       "      <td>0.749202</td>\n",
       "    </tr>\n",
       "    <tr>\n",
       "      <th>1</th>\n",
       "      <td>baseline-mirror</td>\n",
       "      <td>baseline-mirror-deep_sym_encoder_gap_3D</td>\n",
       "      <td>0.655556</td>\n",
       "      <td>0.439483</td>\n",
       "      <td>0.705882</td>\n",
       "      <td>0.535185</td>\n",
       "      <td>0.719106</td>\n",
       "    </tr>\n",
       "    <tr>\n",
       "      <th>23</th>\n",
       "      <td>baseline-mirror</td>\n",
       "      <td>baseline-mirror-resnet50_gap_3D</td>\n",
       "      <td>0.616667</td>\n",
       "      <td>0.377132</td>\n",
       "      <td>0.490196</td>\n",
       "      <td>0.422727</td>\n",
       "      <td>0.610123</td>\n",
       "    </tr>\n",
       "    <tr>\n",
       "      <th>12</th>\n",
       "      <td>baseline-mirror</td>\n",
       "      <td>baseline-mirror-custom_cnn_v1_gap_3D</td>\n",
       "      <td>0.566667</td>\n",
       "      <td>0.367903</td>\n",
       "      <td>0.705882</td>\n",
       "      <td>0.480364</td>\n",
       "      <td>0.676699</td>\n",
       "    </tr>\n",
       "  </tbody>\n",
       "</table>\n",
       "</div>"
      ],
      "text/plain": [
       "               type                                    model  accuracy_avg  \\\n",
       "0   baseline-mirror          baseline-mirror-resnet34_gap_3D      0.766667   \n",
       "8   baseline-mirror          baseline-mirror-resnet18_gap_3D      0.688889   \n",
       "1   baseline-mirror  baseline-mirror-deep_sym_encoder_gap_3D      0.655556   \n",
       "23  baseline-mirror          baseline-mirror-resnet50_gap_3D      0.616667   \n",
       "12  baseline-mirror     baseline-mirror-custom_cnn_v1_gap_3D      0.566667   \n",
       "\n",
       "    precision_avg  recall_avg  f1_score_avg  auc_score_avg  \n",
       "0        0.598592    0.529412      0.560131       0.741450  \n",
       "8        0.464848    0.549020      0.496081       0.749202  \n",
       "1        0.439483    0.705882      0.535185       0.719106  \n",
       "23       0.377132    0.490196      0.422727       0.610123  \n",
       "12       0.367903    0.705882      0.480364       0.676699  "
      ]
     },
     "execution_count": 3,
     "metadata": {},
     "output_type": "execute_result"
    }
   ],
   "source": [
    "a = data[data[\"type\"].str.contains(\"baseline-mirror\")]\n",
    "# a = data\n",
    "a = a[[\"type\",\"model\",\"accuracy_avg\",\"precision_avg\",\"recall_avg\",\"f1_score_avg\",\"auc_score_avg\"]]\n",
    "a = a.sort_values(by=[\"accuracy_avg\"], ascending = False)\n",
    "a"
   ]
  },
  {
   "cell_type": "code",
   "execution_count": 5,
   "metadata": {},
   "outputs": [
    {
     "data": {
      "text/plain": [
       "'SiameseNet-before-deep_sym_encoder_features_3D_tangle_deep_sym_merged_encoder_gmp_3D'"
      ]
     },
     "execution_count": 5,
     "metadata": {},
     "output_type": "execute_result"
    }
   ],
   "source": [
    "a.iloc[3].model"
   ]
  },
  {
   "cell_type": "code",
   "execution_count": null,
   "metadata": {},
   "outputs": [],
   "source": []
  }
 ],
 "metadata": {
  "kernelspec": {
   "display_name": "Python 3",
   "language": "python",
   "name": "python3"
  },
  "language_info": {
   "codemirror_mode": {
    "name": "ipython",
    "version": 3
   },
   "file_extension": ".py",
   "mimetype": "text/x-python",
   "name": "python",
   "nbconvert_exporter": "python",
   "pygments_lexer": "ipython3",
   "version": "3.7.4"
  }
 },
 "nbformat": 4,
 "nbformat_minor": 4
}
