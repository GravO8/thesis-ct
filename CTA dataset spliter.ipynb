{
 "cells": [
  {
   "cell_type": "markdown",
   "id": "f16b9109",
   "metadata": {},
   "source": [
    "# CTA dataset spliter"
   ]
  },
  {
   "cell_type": "code",
   "execution_count": 1,
   "id": "12ae8a12",
   "metadata": {},
   "outputs": [],
   "source": [
    "import pandas as pd, numpy as np\n",
    "\n",
    "data = pd.read_csv(\"../../data/gravo/table_data.csv\")\n",
    "pd.options.display.max_rows = 1000"
   ]
  },
  {
   "cell_type": "markdown",
   "id": "37b4de66",
   "metadata": {},
   "source": [
    "## CTA patients (with rankin)"
   ]
  },
  {
   "cell_type": "code",
   "execution_count": 6,
   "id": "d9c00363",
   "metadata": {},
   "outputs": [
    {
     "name": "stdout",
     "output_type": "stream",
     "text": [
      "dataset size: 286\n",
      "rankin distr: (array([0., 1.]), array([187,  99]))\n"
     ]
    }
   ],
   "source": [
    "cta_patients = data[(data[\"CTA\"] == \"OK\") & ~np.isnan(data[\"binary_rankin\"])]\n",
    "\n",
    "print(\"dataset size:\", len(cta_patients))\n",
    "print(\"rankin distr:\", np.unique(cta_patients[\"binary_rankin\"].values, return_counts = 1))"
   ]
  },
  {
   "cell_type": "markdown",
   "id": "e7e35a8c",
   "metadata": {},
   "source": [
    "## Create `dataset_cta.csv`"
   ]
  },
  {
   "cell_type": "code",
   "execution_count": 21,
   "id": "2c02e353",
   "metadata": {},
   "outputs": [],
   "source": [
    "cta_rankin1 = data[(data[\"CTA\"] == \"OK\") & (data[\"binary_rankin\"] == 1)][\"idProcessoLocal\"].values\n",
    "cta_rankin0 = data[(data[\"CTA\"] == \"OK\") & (data[\"binary_rankin\"] == 0)][\"idProcessoLocal\"].values\n",
    "N1_test, N0_test = 10,19\n",
    "np.random.seed()\n",
    "np.random.shuffle(cta_rankin1)\n",
    "np.random.shuffle(cta_rankin0)\n",
    "\n",
    "with open(\"dataset_cta.csv\", \"w\") as f:\n",
    "    f.write(\"patient_id,rankin,binary_rankin,set\\n\")\n",
    "    for _, row in cta_patients.iterrows():\n",
    "        f.write(f\"{int(row['idProcessoLocal'])},{int(row['rankin'])},{int(row['binary_rankin'])},\")\n",
    "        if row[\"idProcessoLocal\"] in cta_rankin1:\n",
    "            f.write(f\"{['train','test'][int(N1_test > 0)]}\\n\")\n",
    "            N1_test -= 1\n",
    "        else:\n",
    "            f.write(f\"{['train','test'][int(N0_test > 0)]}\\n\")\n",
    "            N0_test -= 1"
   ]
  },
  {
   "cell_type": "markdown",
   "id": "5cd108c0",
   "metadata": {},
   "source": [
    "## Move `dataset_cta.csv`"
   ]
  },
  {
   "cell_type": "code",
   "execution_count": 22,
   "id": "77df4831",
   "metadata": {},
   "outputs": [],
   "source": [
    "mv dataset_cta.csv ../../data/gravo/"
   ]
  },
  {
   "cell_type": "code",
   "execution_count": null,
   "id": "5aedb414",
   "metadata": {},
   "outputs": [],
   "source": []
  }
 ],
 "metadata": {
  "kernelspec": {
   "display_name": "Python 3",
   "language": "python",
   "name": "python3"
  },
  "language_info": {
   "codemirror_mode": {
    "name": "ipython",
    "version": 3
   },
   "file_extension": ".py",
   "mimetype": "text/x-python",
   "name": "python",
   "nbconvert_exporter": "python",
   "pygments_lexer": "ipython3",
   "version": "3.7.4"
  }
 },
 "nbformat": 4,
 "nbformat_minor": 5
}
