{
 "cells": [
  {
   "cell_type": "markdown",
   "id": "fced8003",
   "metadata": {},
   "source": [
    "# Head size"
   ]
  },
  {
   "cell_type": "code",
   "execution_count": 36,
   "id": "bdd67c66",
   "metadata": {},
   "outputs": [],
   "source": [
    "import nibabel as nib, os, numpy as np, matplotlib.pyplot as plt\n",
    "\n",
    "DIR = \"../../data/gravo\"\n",
    "\n",
    "def get_scan_names(ct_type: str):\n",
    "    dirname = os.path.join(DIR, ct_type)\n",
    "    return [f for f in os.listdir(dirname) if f.endswith(\".nii\") and (\"-\" not in f)]\n",
    "\n",
    "def get_size(ct_type: str, filename: str, verbose = True):\n",
    "    file = os.path.join(DIR,ct_type,filename)\n",
    "    scan = nib.load(file).get_fdata()\n",
    "    c    = 0 \n",
    "    inside_brain = False\n",
    "    for i in range(scan.shape[-1]):\n",
    "        slice = scan[:,:,i]\n",
    "        empty = np.count_nonzero(slice) < 100\n",
    "        if inside_brain and empty:\n",
    "            if verbose:\n",
    "                plt.imshow(np.flip(slice.T,0), cmap = \"gray\")\n",
    "                plt.show()\n",
    "            break\n",
    "        elif not empty:\n",
    "            if not inside_brain:\n",
    "                start = i\n",
    "                if verbose:\n",
    "                    plt.imshow(np.flip(slice.T,0), cmap = \"gray\")\n",
    "                    plt.show()\n",
    "            inside_brain = True\n",
    "        if inside_brain:\n",
    "            c += 1\n",
    "    return c, start, start+c"
   ]
  },
  {
   "cell_type": "markdown",
   "id": "b0a9f2ed",
   "metadata": {},
   "source": [
    "## NCCT"
   ]
  },
  {
   "cell_type": "code",
   "execution_count": 37,
   "id": "d1364a27",
   "metadata": {},
   "outputs": [],
   "source": [
    "nccts = get_scan_names(\"NCCT\")\n",
    "out_ncct   = [get_size(\"NCCT\", ncct, verbose = False) for ncct in nccts]\n",
    "sizes_ncct = [out_ncct[i][0] for i in range(len(out_ncct))]\n",
    "start_ncct = [out_ncct[i][1] for i in range(len(out_ncct))]\n",
    "end_ncct   = [out_ncct[i][2] for i in range(len(out_ncct))]"
   ]
  },
  {
   "cell_type": "code",
   "execution_count": 38,
   "id": "643a43e8",
   "metadata": {},
   "outputs": [
    {
     "data": {
      "image/png": "[encoded data removed]",
      "text/plain": [
       "<Figure size 432x288 with 1 Axes>"
      ]
     },
     "metadata": {
      "needs_background": "light"
     },
     "output_type": "display_data"
    }
   ],
   "source": [
    "plt.hist(sizes_ncct, bins = 20)\n",
    "plt.show()"
   ]
  },
  {
   "cell_type": "code",
   "execution_count": 39,
   "id": "355d3a17",
   "metadata": {},
   "outputs": [
    {
     "data": {
      "image/png": "[encoded data removed]",
      "text/plain": [
       "<Figure size 432x288 with 1 Axes>"
      ]
     },
     "metadata": {
      "needs_background": "light"
     },
     "output_type": "display_data"
    }
   ],
   "source": [
    "plt.hist(start_ncct, bins = 20)\n",
    "plt.show()"
   ]
  },
  {
   "cell_type": "code",
   "execution_count": 40,
   "id": "61c8ae33",
   "metadata": {},
   "outputs": [
    {
     "data": {
      "image/png": "[encoded data removed]",
      "text/plain": [
       "<Figure size 432x288 with 1 Axes>"
      ]
     },
     "metadata": {
      "needs_background": "light"
     },
     "output_type": "display_data"
    }
   ],
   "source": [
    "plt.hist(end_ncct, bins = 20)\n",
    "plt.show()"
   ]
  },
  {
   "cell_type": "markdown",
   "id": "377ea291",
   "metadata": {},
   "source": [
    "## CTA "
   ]
  },
  {
   "cell_type": "code",
   "execution_count": 27,
   "id": "dc5f2e48",
   "metadata": {},
   "outputs": [],
   "source": [
    "ctas = get_scan_names(\"CTA\")\n",
    "out_cta   = [get_size(\"CTA\", ncct, verbose = False) for cta in ctas]\n",
    "sizes_cta = [out_cta[i][0] for i in range(len(out_cta))]\n",
    "start_cta = [out_cta[i][1] for i in range(len(out_cta))]\n",
    "end_cta   = [out_cta[i][2] for i in range(len(out_cta))]"
   ]
  },
  {
   "cell_type": "code",
   "execution_count": 28,
   "id": "48c63c7b",
   "metadata": {},
   "outputs": [
    {
     "data": {
      "image/png": "[encoded data removed]",
      "text/plain": [
       "<Figure size 432x288 with 1 Axes>"
      ]
     },
     "metadata": {
      "needs_background": "light"
     },
     "output_type": "display_data"
    }
   ],
   "source": [
    "plt.hist(sizes_cta, bins = 20)\n",
    "plt.show()"
   ]
  },
  {
   "cell_type": "code",
   "execution_count": 29,
   "id": "39cf1ae7",
   "metadata": {},
   "outputs": [
    {
     "data": {
      "image/png": "[encoded data removed]",
      "text/plain": [
       "<Figure size 432x288 with 1 Axes>"
      ]
     },
     "metadata": {
      "needs_background": "light"
     },
     "output_type": "display_data"
    }
   ],
   "source": [
    "plt.hist(start_cta, bins = 20)\n",
    "plt.show()"
   ]
  },
  {
   "cell_type": "code",
   "execution_count": 30,
   "id": "578303c6",
   "metadata": {},
   "outputs": [
    {
     "data": {
      "image/png": "[encoded data removed]",
      "text/plain": [
       "<Figure size 432x288 with 1 Axes>"
      ]
     },
     "metadata": {
      "needs_background": "light"
     },
     "output_type": "display_data"
    }
   ],
   "source": [
    "plt.hist(end_cta, bins = 20)\n",
    "plt.show()"
   ]
  },
  {
   "cell_type": "code",
   "execution_count": null,
   "id": "7e494902",
   "metadata": {},
   "outputs": [],
   "source": []
  }
 ],
 "metadata": {
  "kernelspec": {
   "display_name": "Python 3",
   "language": "python",
   "name": "python3"
  },
  "language_info": {
   "codemirror_mode": {
    "name": "ipython",
    "version": 3
   },
   "file_extension": ".py",
   "mimetype": "text/x-python",
   "name": "python",
   "nbconvert_exporter": "python",
   "pygments_lexer": "ipython3",
   "version": "3.7.4"
  }
 },
 "nbformat": 4,
 "nbformat_minor": 5
}
